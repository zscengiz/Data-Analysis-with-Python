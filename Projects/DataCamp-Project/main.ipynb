{
 "cells": [
  {
   "cell_type": "code",
   "execution_count": 112,
   "metadata": {},
   "outputs": [],
   "source": [
    "import pandas as pd\n",
    "import matplotlib.pyplot as plt\n",
    "import pingouin\n",
    "from scipy.stats import mannwhitneyu # Mann-Whitney "
   ]
  },
  {
   "cell_type": "code",
   "execution_count": 113,
   "metadata": {},
   "outputs": [],
   "source": [
    "women = pd.read_csv(\"women_results.csv\")\n",
    "men = pd.read_csv(\"men_results.csv\")"
   ]
  },
  {
   "cell_type": "code",
   "execution_count": 114,
   "metadata": {},
   "outputs": [],
   "source": [
    "# copy()\n",
    "men_subset = men[(men[\"date\"] > \"2002-01-01\") & (men[\"tournament\"].isin([\"FIFA World Cup\"]))].copy()\n",
    "women_subset = women[(women[\"date\"] > \"2002-01-01\") & (women[\"tournament\"].isin([\"FIFA World Cup\"]))].copy()"
   ]
  },
  {
   "cell_type": "code",
   "execution_count": 115,
   "metadata": {},
   "outputs": [
    {
     "name": "stdout",
     "output_type": "stream",
     "text": [
      "      Unnamed: 0        date      home_team      away_team  home_score  \\\n",
      "1600        1600  2003-09-20        Nigeria    North Korea           0   \n",
      "1601        1601  2003-09-20         Norway         France           2   \n",
      "1602        1602  2003-09-20        Germany         Canada           4   \n",
      "1603        1603  2003-09-20          Japan      Argentina           6   \n",
      "1604        1604  2003-09-21  United States         Sweden           3   \n",
      "...          ...         ...            ...            ...         ...   \n",
      "4465        4465  2019-06-29        Germany         Sweden           1   \n",
      "4466        4466  2019-07-02        England  United States           1   \n",
      "4467        4467  2019-07-03    Netherlands         Sweden           1   \n",
      "4468        4468  2019-07-06        England         Sweden           1   \n",
      "4469        4469  2019-07-07  United States    Netherlands           2   \n",
      "\n",
      "      away_score      tournament  group  goals_scored  \n",
      "1600           3  FIFA World Cup  women             3  \n",
      "1601           0  FIFA World Cup  women             2  \n",
      "1602           1  FIFA World Cup  women             5  \n",
      "1603           0  FIFA World Cup  women             6  \n",
      "1604           1  FIFA World Cup  women             4  \n",
      "...          ...             ...    ...           ...  \n",
      "4465           2  FIFA World Cup  women             3  \n",
      "4466           2  FIFA World Cup  women             3  \n",
      "4467           0  FIFA World Cup  women             1  \n",
      "4468           2  FIFA World Cup  women             3  \n",
      "4469           0  FIFA World Cup  women             2  \n",
      "\n",
      "[200 rows x 9 columns]\n",
      "       Unnamed: 0        date            home_team     away_team  home_score  \\\n",
      "25164       25164  2002-05-31               France       Senegal           0   \n",
      "25165       25165  2002-06-01              Germany  Saudi Arabia           8   \n",
      "25166       25166  2002-06-01  Republic of Ireland      Cameroon           1   \n",
      "25167       25167  2002-06-01              Uruguay       Denmark           1   \n",
      "25168       25168  2002-06-02            Argentina       Nigeria           1   \n",
      "...           ...         ...                  ...           ...         ...   \n",
      "44343       44343  2022-12-10              England        France           1   \n",
      "44345       44345  2022-12-13            Argentina       Croatia           3   \n",
      "44346       44346  2022-12-14               France       Morocco           2   \n",
      "44350       44350  2022-12-17              Croatia       Morocco           2   \n",
      "44352       44352  2022-12-18            Argentina        France           3   \n",
      "\n",
      "       away_score      tournament group  goals_scored  \n",
      "25164           1  FIFA World Cup   men             1  \n",
      "25165           0  FIFA World Cup   men             8  \n",
      "25166           1  FIFA World Cup   men             2  \n",
      "25167           2  FIFA World Cup   men             3  \n",
      "25168           0  FIFA World Cup   men             1  \n",
      "...           ...             ...   ...           ...  \n",
      "44343           2  FIFA World Cup   men             3  \n",
      "44345           0  FIFA World Cup   men             3  \n",
      "44346           0  FIFA World Cup   men             2  \n",
      "44350           1  FIFA World Cup   men             3  \n",
      "44352           3  FIFA World Cup   men             6  \n",
      "\n",
      "[384 rows x 9 columns]\n"
     ]
    }
   ],
   "source": [
    "# .loc[]\n",
    "men_subset.loc[:, \"group\"] = \"men\"\n",
    "women_subset.loc[:, \"group\"] = \"women\"\n",
    "\n",
    "men_subset.loc[:, \"goals_scored\"] = men_subset[\"home_score\"] + men_subset[\"away_score\"]\n",
    "women_subset.loc[:, \"goals_scored\"] = women_subset[\"home_score\"] + women_subset[\"away_score\"]\n",
    "\n",
    "print(women_subset)\n",
    "print(men_subset)"
   ]
  },
  {
   "cell_type": "code",
   "execution_count": 116,
   "metadata": {},
   "outputs": [
    {
     "data": {
      "image/png": "[encoded data removed]",
      "text/plain": [
       "<Figure size 640x480 with 1 Axes>"
      ]
     },
     "metadata": {},
     "output_type": "display_data"
    },
    {
     "data": {
      "text/plain": [
       "<Figure size 640x480 with 0 Axes>"
      ]
     },
     "metadata": {},
     "output_type": "display_data"
    }
   ],
   "source": [
    "men_subset[\"goals_scored\"].hist()\n",
    "#plt.scatter(men_subset.index, men_subset[\"goals_scored\"])\n",
    "plt.show()\n",
    "#plt.plot(x, y1, label='title')\n",
    "#plt.legend()\n",
    "plt.clf()"
   ]
  },
  {
   "cell_type": "code",
   "execution_count": 117,
   "metadata": {},
   "outputs": [
    {
     "data": {
      "image/png": "[encoded data removed]",
      "text/plain": [
       "<Figure size 640x480 with 1 Axes>"
      ]
     },
     "metadata": {},
     "output_type": "display_data"
    },
    {
     "data": {
      "text/plain": [
       "<Figure size 640x480 with 0 Axes>"
      ]
     },
     "metadata": {},
     "output_type": "display_data"
    }
   ],
   "source": [
    "women_subset[\"goals_scored\"].hist()\n",
    "plt.show()\n",
    "plt.clf()"
   ]
  },
  {
   "cell_type": "code",
   "execution_count": 118,
   "metadata": {},
   "outputs": [
    {
     "name": "stdout",
     "output_type": "stream",
     "text": [
      "     Unnamed: 0        date      home_team    away_team  home_score  \\\n",
      "0          1600  2003-09-20        Nigeria  North Korea           0   \n",
      "1          1601  2003-09-20         Norway       France           2   \n",
      "2          1602  2003-09-20        Germany       Canada           4   \n",
      "3          1603  2003-09-20          Japan    Argentina           6   \n",
      "4          1604  2003-09-21  United States       Sweden           3   \n",
      "..          ...         ...            ...          ...         ...   \n",
      "579       44343  2022-12-10        England       France           1   \n",
      "580       44345  2022-12-13      Argentina      Croatia           3   \n",
      "581       44346  2022-12-14         France      Morocco           2   \n",
      "582       44350  2022-12-17        Croatia      Morocco           2   \n",
      "583       44352  2022-12-18      Argentina       France           3   \n",
      "\n",
      "     away_score      tournament  group  goals_scored  \n",
      "0             3  FIFA World Cup  women             3  \n",
      "1             0  FIFA World Cup  women             2  \n",
      "2             1  FIFA World Cup  women             5  \n",
      "3             0  FIFA World Cup  women             6  \n",
      "4             1  FIFA World Cup  women             4  \n",
      "..          ...             ...    ...           ...  \n",
      "579           2  FIFA World Cup    men             3  \n",
      "580           0  FIFA World Cup    men             3  \n",
      "581           0  FIFA World Cup    men             2  \n",
      "582           1  FIFA World Cup    men             3  \n",
      "583           3  FIFA World Cup    men             6  \n",
      "\n",
      "[584 rows x 9 columns]\n"
     ]
    }
   ],
   "source": [
    "both = pd.concat([women_subset, men_subset], axis=0, ignore_index=True)\n",
    "print(both)"
   ]
  },
  {
   "cell_type": "code",
   "execution_count": 119,
   "metadata": {},
   "outputs": [
    {
     "name": "stdout",
     "output_type": "stream",
     "text": [
      "     goals_scored  group\n",
      "0               3  women\n",
      "1               2  women\n",
      "2               5  women\n",
      "3               6  women\n",
      "4               4  women\n",
      "..            ...    ...\n",
      "579             3    men\n",
      "580             3    men\n",
      "581             2    men\n",
      "582             3    men\n",
      "583             6    men\n",
      "\n",
      "[584 rows x 2 columns]\n"
     ]
    }
   ],
   "source": [
    "both_subset = both[[\"goals_scored\", \"group\"]]\n",
    "print(both_subset)"
   ]
  },
  {
   "cell_type": "code",
   "execution_count": 120,
   "metadata": {},
   "outputs": [
    {
     "name": "stdout",
     "output_type": "stream",
     "text": [
      "group  men  women\n",
      "0      NaN    3.0\n",
      "1      NaN    2.0\n",
      "2      NaN    5.0\n",
      "3      NaN    6.0\n",
      "4      NaN    4.0\n",
      "..     ...    ...\n",
      "579    3.0    NaN\n",
      "580    3.0    NaN\n",
      "581    2.0    NaN\n",
      "582    3.0    NaN\n",
      "583    6.0    NaN\n",
      "\n",
      "[584 rows x 2 columns]\n"
     ]
    }
   ],
   "source": [
    "both_subset_wide = both_subset.pivot(columns=\"group\", values=\"goals_scored\")\n",
    "print(both_subset_wide)"
   ]
  },
  {
   "cell_type": "code",
   "execution_count": 121,
   "metadata": {},
   "outputs": [
    {
     "name": "stdout",
     "output_type": "stream",
     "text": [
      "       U-val alternative     p-val       RBC      CLES\n",
      "MWU  43273.0     greater  0.005107 -0.126901  0.563451\n"
     ]
    }
   ],
   "source": [
    "results_pg = pingouin.mwu(x=both_subset_wide[\"women\"], y=both_subset_wide[\"men\"], alternative=\"greater\")\n",
    "\n",
    "results_scipy = mannwhitneyu(x=women_subset[\"goals_scored\"],y=men_subset[\"goals_scored\"],alternative=\"greater\")\n",
    "\n",
    "p_val = results_pg[\"p-val\"].values[0]\n",
    "print(results_pg)"
   ]
  },
  {
   "cell_type": "code",
   "execution_count": 122,
   "metadata": {},
   "outputs": [
    {
     "name": "stdout",
     "output_type": "stream",
     "text": [
      "{'p_val': 0.005106609825443641, 'result': 'reject'}\n"
     ]
    }
   ],
   "source": [
    "if p_val <= 0.10:\n",
    "    result = \"reject\"\n",
    "else:\n",
    "    result = \"fail to reject\"\n",
    "\n",
    "result_dict = {\"p_val\": p_val, \"result\": result}\n",
    "print(result_dict)"
   ]
  }
 ],
 "metadata": {
  "kernelspec": {
   "display_name": "Python 3",
   "language": "python",
   "name": "python3"
  },
  "language_info": {
   "codemirror_mode": {
    "name": "ipython",
    "version": 3
   },
   "file_extension": ".py",
   "mimetype": "text/x-python",
   "name": "python",
   "nbconvert_exporter": "python",
   "pygments_lexer": "ipython3",
   "version": "3.8.9"
  }
 },
 "nbformat": 4,
 "nbformat_minor": 2
}
